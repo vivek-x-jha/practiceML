{
 "cells": [
  {
   "cell_type": "markdown",
   "metadata": {},
   "source": [
    "# Logistic Regression with Titanic data example"
   ]
  },
  {
   "cell_type": "markdown",
   "metadata": {},
   "source": [
    "## Author Vivek Jha"
   ]
  },
  {
   "cell_type": "markdown",
   "metadata": {},
   "source": [
    "### We will be importing, cleaning, and analyzing the (in)famous Titanic dataset from Kaggle"
   ]
  },
  {
   "cell_type": "code",
   "execution_count": 2,
   "metadata": {},
   "outputs": [],
   "source": [
    "import os\n",
    "import numpy as np\n",
    "import pandas as pd\n",
    "import matplotlib.pyplot as plt"
   ]
  },
  {
   "cell_type": "code",
   "execution_count": 31,
   "metadata": {},
   "outputs": [],
   "source": [
    "# Define data variables\n",
    "data_directory = os.path.abspath('data')\n",
    "csv2df = lambda file: pd.read_csv(os.path.join(data_directory, file))"
   ]
  },
  {
   "cell_type": "code",
   "execution_count": 32,
   "metadata": {},
   "outputs": [],
   "source": [
    "test_df = csv2df('test.csv')\n",
    "train_df = csv2df('train.csv')\n",
    "gender_df = csv2df('gender_submission.csv')"
   ]
  },
  {
   "cell_type": "code",
   "execution_count": 47,
   "metadata": {},
   "outputs": [],
   "source": [
    "frames = [test_df, train_df, gender_df]"
   ]
  },
  {
   "cell_type": "code",
   "execution_count": 48,
   "metadata": {},
   "outputs": [
    {
     "name": "stdout",
     "output_type": "stream",
     "text": [
      "Dataset: test.csv\n",
      "Sample Size: 418\n",
      "Features: 11\n",
      "\n",
      "Dataset: train.csv\n",
      "Sample Size: 891\n",
      "Features: 12\n",
      "\n",
      "Dataset: gender_submission.csv\n",
      "Sample Size: 418\n",
      "Features: 2\n",
      "\n"
     ]
    }
   ],
   "source": [
    "for df, data in zip(frames, os.listdir(data_directory)):\n",
    "    print(f'Dataset: {data}')\n",
    "    print(f'Sample Size: {df.shape[0]}')\n",
    "    print(f'Features: {df.shape[1]}\\n')"
   ]
  },
  {
   "cell_type": "code",
   "execution_count": null,
   "metadata": {},
   "outputs": [],
   "source": []
  }
 ],
 "metadata": {
  "kernelspec": {
   "display_name": "Python 3",
   "language": "python",
   "name": "python3"
  },
  "language_info": {
   "codemirror_mode": {
    "name": "ipython",
    "version": 3
   },
   "file_extension": ".py",
   "mimetype": "text/x-python",
   "name": "python",
   "nbconvert_exporter": "python",
   "pygments_lexer": "ipython3",
   "version": "3.6.3"
  }
 },
 "nbformat": 4,
 "nbformat_minor": 2
}
